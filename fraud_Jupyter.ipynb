{
 "cells": [
  {
   "cell_type": "markdown",
   "metadata": {},
   "source": [
    "# Analisis de la base de datos"
   ]
  },
  {
   "cell_type": "markdown",
   "metadata": {},
   "source": [
    "# Primeros pasos"
   ]
  },
  {
   "cell_type": "markdown",
   "metadata": {},
   "source": [
    "#### Empezemos por importar las librerias y cargar el DataFrame."
   ]
  },
  {
   "cell_type": "code",
   "execution_count": 60,
   "metadata": {},
   "outputs": [],
   "source": [
    "import numpy as np\n",
    "import pandas as pd\n",
    "import matplotlib.pyplot as plt\n",
    "from sklearn.linear_model import LinearRegression\n",
    "import seaborn as sns\n",
    "from sklearn.model_selection import train_test_split\n",
    "import math\n",
    "\n",
    "pd.set_option('display.width', 1000)\n",
    "\n",
    "df = pd.read_csv('transf_data.csv', sep=',')"
   ]
  },
  {
   "cell_type": "markdown",
   "metadata": {},
   "source": [
    "Aca encontramos definidas las funciones que vamos a usar a travez de todo el analisis y creacion de la red. Varias no son necesarias para esta base de datos, pero si para la de 'Water Potability'."
   ]
  },
  {
   "cell_type": "code",
   "execution_count": 61,
   "metadata": {},
   "outputs": [],
   "source": [
    "# ============================================== SCRIPT DE FUNCIONES ===================================================== #\n",
    "\n",
    "# Funcion de descarte\n",
    "# Asigna a un nuevo dataframe, otro pero con los indices dropeados de las filas que cumplan la condicion pasada\n",
    "# Ejemplo: Si quiero armar un nuevo dataframe sin las filas donde la potabilidad es 0:\n",
    "# df_1 = descarte(df, 'Potability', 1) => Esto se guarda todas las filas donde Potabilidad es 1\n",
    "def descarte(data_frame, columna, dato):\n",
    "    new_df = data_frame.copy()\n",
    "    indexes = new_df[new_df[columna] != dato].index\n",
    "    return new_df.drop(indexes)\n",
    "\n",
    "# Cargadora de NaNs\n",
    "def carga_nans(data_frame, data_ceros, data_unos):\n",
    "    # Aca por las dudas hago lo mismo, igual se lo voy a asignar al original\n",
    "    new_df = data_frame.copy()\n",
    "    columnas = new_df.columns.to_list()\n",
    "    # Esto devuelve:\n",
    "    # index = indice de la fila\n",
    "    # fila = todos los datos de la fila en un [[formato]]\n",
    "    for index, fila in new_df.iterrows():\n",
    "        # Y por cada fila del dataframe, itero en las columnas\n",
    "        for i in range(9):\n",
    "            # Cuando i = 0 > fila['ph'], cuando i = 1 > fila['Hardness']\n",
    "            if math.isnan(fila.iloc[i]) and fila.iloc[9] == 0:\n",
    "                new_df.loc[index, columnas[i]] = data_ceros[columnas[i]].median()\n",
    "            elif math.isnan(fila.iloc[i]) and fila.iloc[9] == 1:\n",
    "                new_df.loc[index, columnas[i]] = data_unos[columnas[i]].median()\n",
    "    return new_df\n",
    "\n",
    "# Normalizacion\n",
    "def normalizacion(data_frame):\n",
    "    # Se agrego esto, sino se esta modificando el dataframe original, y no quiero eso. Se modifica en todas las funciones\n",
    "    new_df = data_frame.copy() # <-\n",
    "    columnas = new_df.columns.to_list()\n",
    "    new_val = []\n",
    "    for item in columnas[:-1]:\n",
    "        max_value = new_df[item].max()\n",
    "        for value in new_df[item]:   \n",
    "            new_val.append(value/max_value)\n",
    "        new_df[item] = new_val\n",
    "        new_val.clear()\n",
    "    return new_df\n",
    "\n",
    "# Borrador de valores atipicos\n",
    "def atipicos(valores_columna):\n",
    "    ordered = sorted(valores_columna)\n",
    "    n = len(valores_columna)\n",
    "    Q1 = ordered[n // 4]\n",
    "    Q2 = (ordered[n // 2 - 1] + ordered[n // 2]) / 2\n",
    "    Q3 = ordered[3 * n // 4]\n",
    "    iqr = Q3 - Q1\n",
    "    # print('Max value: ', Q3 + (1.5 * iqr))\n",
    "    # print('Min value: ', Q1 - (1.5 * iqr))\n",
    "    # print('\\n')\n",
    "    # Entonces lo que quiero hacer es: Primero identificar los atipicos. Despues buscar esos atipicos \n",
    "    # en el dataframe, y eliminarlos. NO se hace con el indice xq son indices dis-\n",
    "    # tintos, la columna no esta ordenada, 'ordered' si.\n",
    "    values = []\n",
    "    for value in ordered:\n",
    "        if ((value > Q3 + (1.5 * iqr)) or (value < Q1 - (1.5 * iqr))):\n",
    "            values.append(value)\n",
    "    return values, iqr\n",
    "\n",
    "def limpieza(data_frame):\n",
    "    new_df = data_frame.copy()\n",
    "    columnas = new_df.columns.to_list()\n",
    "    for item in columnas[:-1]:\n",
    "        indices = []\n",
    "        valores_at = atipicos(new_df[item].to_list())[0]\n",
    "        for value in valores_at:\n",
    "            # Guarda en la lista los indices de las filas que sean iguales al value\n",
    "            indices.append(new_df[new_df[item] == value].index[0])\n",
    "        # Y despues las tira todas a la bosta\n",
    "        new_df = new_df.drop(indices)\n",
    "    return new_df\n",
    "\n",
    "# Estandarizacion\n",
    "def estandarizacion(data_frame):\n",
    "    new_df = data_frame.copy()\n",
    "    columnas = data_frame.columns.to_list()\n",
    "    for item in columnas[:-1]:\n",
    "        # media\n",
    "        media = new_df[item].mean()\n",
    "        # desviacion estandar\n",
    "        desv_std = new_df[item].std()\n",
    "        # lista para guardar los valores escalados\n",
    "        valores_esc = []\n",
    "        for value in new_df[item]:\n",
    "            # estandariza\n",
    "            val = ((value - media) / desv_std) \n",
    "            # guarda\n",
    "            valores_esc.append(val)\n",
    "        # mete toda la lista en la columna\n",
    "        new_df[item] = valores_esc\n",
    "    \n",
    "    return new_df\n",
    "\n",
    "# Estandarizacion Robusta\n",
    "# Esto se tiene que llamar una vez que no haya NaNs.\n",
    "def estandarizacion_robusta(data_frame):\n",
    "    new_df = data_frame.copy()\n",
    "    columnas = data_frame.columns.to_list()\n",
    "    iqr = 0\n",
    "    for item in columnas[:-1]:\n",
    "        # media\n",
    "        iqr = atipicos(new_df[item].to_list())[1]\n",
    "        # desviacion estandar\n",
    "        desv_std = new_df[item].std()\n",
    "        # lista para guardar los valores escalados\n",
    "        valores_esc = []\n",
    "        for value in new_df[item]:\n",
    "            # estandariza\n",
    "            val = ((value - iqr) / desv_std)\n",
    "            # guarda\n",
    "            valores_esc.append(val)\n",
    "        # mete toda la lista en la columna\n",
    "        new_df[item] = valores_esc\n",
    "    \n",
    "    return new_df\n",
    "\n",
    "def borrador_samples(data_frame):\n",
    "    new_df = data_frame.copy()\n",
    "    indices = []\n",
    "    for index,value in new_df.iterrows():\n",
    "        if new_df['fraud'][index] == 0:\n",
    "            indices.append(index)\n",
    "        if (index == 820_000):\n",
    "            newnew_df = new_df.drop(indices)\n",
    "            return newnew_df\n",
    "        \n",
    "# ============================================================================================================================ #\n",
    "\n",
    "# ============================================== GRAFICOS ===================================================== #\n",
    "\n",
    "# Graficos de dispersion de los datos\n",
    "def scattered(df, last_col, max_x = None, max_y = None):\n",
    "    columns = df.columns.to_list()\n",
    "    for item in columns[:last_col]:\n",
    "        if max_x is None:\n",
    "            max_x = df[item].index.max()\n",
    "        if max_y is None:\n",
    "            max_y = df[item].max()\n",
    "        plt.xlabel('Index')\n",
    "        plt.xlim(0, max_x)\n",
    "        plt.ylim(0, max_y)\n",
    "        plt.ylabel(f'Column \\'{item}\\'')\n",
    "        plt.xticks(rotation=45, horizontalalignment='center')\n",
    "        plt.minorticks_on()\n",
    "        plt.grid()\n",
    "        plt.title('PLOT PER COLUMN')\n",
    "        plt.scatter(df.index, df[item], label=item.upper(), color='slateblue', marker='.')\n",
    "        plt.legend()\n",
    "        plt.show()\n",
    "\n",
    "# Graficos de distribucion (boxplot)\n",
    "def boxplot(data_frame, last_col):\n",
    "    columnas = data_frame.columns.to_list()\n",
    "    fig, ax = plt.subplots(last_col, 1, figsize=(10, 20))\n",
    "    fig.subplots_adjust(hspace=0.75)\n",
    "    for i in range(last_col):\n",
    "        sns.boxplot(x=data_frame[columnas[i]], data=data_frame, ax=ax[i])\n",
    "    plt.show()\n",
    "\n",
    "# Histogramas de los datos\n",
    "def histograms(df, last_col):\n",
    "    new_df = df.copy()\n",
    "    columns = new_df.columns.to_list()\n",
    "    for item in columns[:last_col]:\n",
    "        \n",
    "        media = new_df[item].mean()\n",
    "        desv_est = new_df[item].std()\n",
    "        array = new_df[item].to_numpy()\n",
    "\n",
    "        plt.xlabel(f'Column \\'{item}\\'')\n",
    "        plt.ylabel('Index')\n",
    "        plt.xticks(rotation=45, horizontalalignment='center')\n",
    "        plt.minorticks_on()\n",
    "        plt.grid()\n",
    "        plt.title('PLOT PER COLUMN')\n",
    "\n",
    "        cont, bins, patches = plt.hist(array, color='slateblue', edgecolor='black', density=True, alpha=0.6, label=item.upper())\n",
    "        x_densidad = np.linspace(bins[0], bins[-1], 100)\n",
    "\n",
    "        funcion = 1/(desv_est*np.sqrt(2*np.pi)) * np.exp(-0.5*((x_densidad - media)/desv_est)**2)\n",
    "\n",
    "        plt.plot(x_densidad, funcion, linewidth=2, color='black')\n",
    "        plt.legend()\n",
    "        plt.show()\n",
    "\n",
    "# Matriz de correlacion\n",
    "def matrix_corr(df):\n",
    "    plt.figure(figsize=(10, 8))\n",
    "    matriz_corr = df.corr()\n",
    "    # Colores para la grafica de correlacion -> https://matplotlib.org/stable/users/explain/colors/colormaps.html\n",
    "    sns.heatmap(matriz_corr, annot=True, cmap='inferno', linewidths=0.3, vmin=-1)\n",
    "    plt.xticks(rotation=45, horizontalalignment='center')\n",
    "    plt.title('Correlation Matrix')\n",
    "    plt.show()\n",
    "\n",
    "# Pares de graficos en funciones del resto\n",
    "def pplot(data_frame, hue):\n",
    "    sns.pairplot(data_frame, hue=hue, corner=True, palette='plasma')\n",
    "    plt.show()\n",
    "\n",
    "# Grafico del entrenamiento de la red (test/train)\n",
    "def grafico_acc(L, train_l, test_l):\n",
    "    fmt_train = {\n",
    "        'color': 'tab:red',\n",
    "        'ls': 'solid',\n",
    "        'lw': 3,\n",
    "    }\n",
    "\n",
    "    fmt_test = {\n",
    "        'color': 'tab:orange',\n",
    "        'ls': 'solid',\n",
    "        'lw': 3,\n",
    "    }\n",
    "\n",
    "    fig, (ax) = plt.subplots(1, 1, figsize=(10,8))\n",
    "\n",
    "    ax.plot(train_l, label='Train', **fmt_train)\n",
    "    ax.plot(test_l, label='Test', **fmt_test)\n",
    "\n",
    "    ax.grid(which='both')\n",
    "    ax.legend()\n",
    "    ax.set_title(f'Accuracy {L=}')\n",
    "    ax.set_xlabel('Step')\n",
    "\n",
    "    fig.tight_layout()\n",
    "    plt.show()\n",
    "\n",
    "# ============================================================================================================= #"
   ]
  },
  {
   "cell_type": "markdown",
   "metadata": {},
   "source": [
    "Primer vistazo de los datos."
   ]
  },
  {
   "cell_type": "code",
   "execution_count": 62,
   "metadata": {},
   "outputs": [
    {
     "name": "stdout",
     "output_type": "stream",
     "text": [
      "\n",
      "Drescripcion del DF sin procesar\n",
      "\n",
      "       distance_from_home  distance_from_last_transaction  ratio_to_median_purchase_price  repeat_retailer      used_chip  used_pin_number   online_order          fraud\n",
      "count       251648.000000                   251648.000000                   251648.000000    251648.000000  251648.000000    251648.000000  251648.000000  251648.000000\n",
      "mean            37.774015                        7.267704                        3.016502         0.880762       0.323718         0.072160       0.734681       0.347322\n",
      "std             93.023494                       34.096929                        4.234568         0.324069       0.467895         0.258754       0.441504       0.476120\n",
      "min              0.025847                        0.000298                        0.007278         0.000000       0.000000         0.000000       0.000000       0.000000\n",
      "25%              4.018835                        0.306884                        0.588911         1.000000       0.000000         0.000000       0.000000       0.000000\n",
      "50%             10.941643                        1.044075                        1.424900         1.000000       0.000000         0.000000       1.000000       0.000000\n",
      "75%             31.920588                        3.649177                        4.345763         1.000000       1.000000         0.000000       1.000000       1.000000\n",
      "max          10632.723672                     4968.315477                      266.689692         1.000000       1.000000         1.000000       1.000000       1.000000\n",
      "\n",
      "15 Primeras filas\n",
      "\n",
      "    distance_from_home  distance_from_last_transaction  ratio_to_median_purchase_price  repeat_retailer  used_chip  used_pin_number  online_order  fraud\n",
      "0             2.131956                       56.372401                        6.358667              1.0        0.0              0.0           1.0    1.0\n",
      "1             3.803057                       67.241081                        1.872950              1.0        0.0              0.0           1.0    1.0\n",
      "2            15.694986                      175.989182                        0.855623              1.0        0.0              0.0           1.0    1.0\n",
      "3            26.711462                        1.552008                        4.603601              1.0        1.0              0.0           1.0    1.0\n",
      "4            10.664474                        1.565769                        4.886521              1.0        0.0              0.0           1.0    1.0\n",
      "5             2.530145                        3.689781                        8.297407              1.0        0.0              0.0           1.0    1.0\n",
      "6            21.126116                        0.271987                        6.081771              1.0        0.0              0.0           1.0    1.0\n",
      "7           151.370437                        5.340081                        1.171567              1.0        0.0              0.0           1.0    1.0\n",
      "8             9.598401                        0.454556                        6.084829              1.0        0.0              0.0           1.0    1.0\n",
      "9            22.545588                        0.353939                        4.095442              1.0        0.0              0.0           1.0    1.0\n",
      "10          335.189320                        1.114168                        0.098243              1.0        0.0              0.0           1.0    1.0\n",
      "11           43.326444                        0.205255                        4.250634              1.0        0.0              0.0           1.0    1.0\n",
      "12            1.115881                        0.170237                        4.127313              0.0        0.0              0.0           0.0    1.0\n",
      "13            5.793890                        2.758511                        5.085686              1.0        0.0              0.0           1.0    1.0\n",
      "14           22.641962                        0.015625                        4.322207              1.0        0.0              0.0           1.0    1.0\n",
      "\n",
      "NaNs por columna\n",
      "\n",
      "Series([], dtype: float64)\n"
     ]
    }
   ],
   "source": [
    "print('\\n','Drescripcion del DF sin procesar', '\\n\\n', df.describe(), sep='')\n",
    "print('\\n','15 Primeras filas', '\\n\\n',df.head(15), sep='')\n",
    "nans = df[df.columns[df.isnull().any()]]\n",
    "print('\\n','NaNs por columna', '\\n\\n',(nans.isnull().sum()), sep='')"
   ]
  },
  {
   "cell_type": "markdown",
   "metadata": {},
   "source": [
    "En un principio, teniamos 1.000.000 de datos! Lo primero que hicimos fue reducir la cantidad. Primero llamamos a 'borrador_samples', que se ocupa de iterar por el DataFrame guardando las primeras 820.000 posiciones donde haya 0 en la columna de 'fraud', despues borra las filas completas del DataFrame y lo retorna. ¿Por que hacemos esto? Aproximadamente 910.000 datos, concluian en no ser fraudes por transacciones. Concluimos en que tener 100.000 y \n",
    "80.000 datos de cada tipo, era mas que suficiente para entrenar la red.\n",
    "Despues de este llamado, quedamos con 251.648 datos para utilizar. Mas tarde, llamaremos a 'limpieza', que se ocupa de borrar los atipicos de todas las columnas, quedandonos en total 180.304 datos.\n",
    "El codigo de abajo fue utilizado para limpiar el CSV. Ahora en la carpeta, hay dos CSV, el original, y el extraido, generado gracias a la limpieza.\n",
    "\n",
    "    # borra 820_000 datos de ceros\n",
    "    # para dejar aproximadamente 80k y 80k\n",
    "    df = borrador_samples(df)\n",
    "    df = limpieza(df)\n",
    "    df.to_csv('transf_data.csv', index=False)"
   ]
  },
  {
   "cell_type": "markdown",
   "metadata": {},
   "source": [
    "Una vez realizada una limpieza general, podemos visualizar mejor los datos."
   ]
  },
  {
   "cell_type": "code",
   "execution_count": null,
   "metadata": {},
   "outputs": [],
   "source": [
    "# Parametros opcionales para scattered <-\n",
    "# max_x => valor maximo del eje x, sino por defecto es el maximo indice.\n",
    "# max_y =>   \"     \" pero del eje y. idem por defecto pero es el maximo valor.   \n",
    "scattered(df, 1)"
   ]
  },
  {
   "cell_type": "code",
   "execution_count": null,
   "metadata": {},
   "outputs": [],
   "source": [
    "# Estos se ven bastante feos <-\n",
    "boxplot(df, 7)"
   ]
  },
  {
   "cell_type": "code",
   "execution_count": null,
   "metadata": {},
   "outputs": [],
   "source": [
    "matrix_corr(df)"
   ]
  },
  {
   "cell_type": "code",
   "execution_count": null,
   "metadata": {},
   "outputs": [],
   "source": [
    "pplot(df, 'fraud')"
   ]
  },
  {
   "cell_type": "markdown",
   "metadata": {},
   "source": [
    "Ahora que ya tenemos una idea del DataFrame, podemos darnos cuenta de que no hace falta tratar mucho mas los datos. Vamos a proceder a estandarizarlos borrar los atipicos como ya habiamos dicho, con la funcion 'limpieza', para despues estandarizarlos con la funcion del script 'estandarizacion', la cual itera por cada columna, cargando en una lista los datos realizando la siguiente cuenta: ((dato - media) / desviacion estandar), para despues reasignar la lista nueva a cada columna."
   ]
  },
  {
   "cell_type": "code",
   "execution_count": 63,
   "metadata": {},
   "outputs": [],
   "source": [
    "df = limpieza(df)\n",
    "df = estandarizacion(df)"
   ]
  },
  {
   "cell_type": "markdown",
   "metadata": {},
   "source": [
    "Verifiquemos como quedaron los datos"
   ]
  },
  {
   "cell_type": "code",
   "execution_count": 64,
   "metadata": {},
   "outputs": [
    {
     "name": "stdout",
     "output_type": "stream",
     "text": [
      "\n",
      "Drescripcion del DF post procesamiento\n",
      "\n",
      "       distance_from_home  distance_from_last_transaction  ratio_to_median_purchase_price  repeat_retailer     used_chip  used_pin_number  online_order          fraud\n",
      "count        1.803040e+05                    1.803040e+05                    1.803040e+05     1.803040e+05  1.803040e+05     1.803040e+05  1.803040e+05  180304.000000\n",
      "mean        -9.285520e-18                    1.222437e-16                   -3.052547e-16     1.613217e-16  4.224542e-17    -2.167442e-19  3.176288e-17       0.239179\n",
      "std          1.000000e+00                    1.000000e+00                    1.000000e+00     1.000000e+00  1.000000e+00     1.000000e+00  1.000000e+00       0.426584\n",
      "min         -9.290139e-01                   -8.268459e-01                   -1.004304e+00    -2.528100e+00 -7.299695e-01    -2.958007e-01 -1.565729e+00       0.000000\n",
      "25%         -7.101323e-01                   -6.941931e-01                   -7.685185e-01     3.955518e-01 -7.299695e-01    -2.958007e-01 -1.565729e+00       0.000000\n",
      "50%         -3.857096e-01                   -4.190436e-01                   -4.440068e-01     3.955518e-01 -7.299695e-01    -2.958007e-01  6.386766e-01       0.000000\n",
      "75%          3.442507e-01                    3.032314e-01                    7.073683e-01     3.955518e-01  1.369913e+00    -2.958007e-01  6.386766e-01       0.000000\n",
      "max          3.780034e+00                    3.763066e+00                    3.272952e+00     3.955518e-01  1.369913e+00     3.380635e+00  6.386766e-01       1.000000\n",
      "\n",
      "15 Primeras filas\n",
      "\n",
      "    distance_from_home  distance_from_last_transaction  ratio_to_median_purchase_price  repeat_retailer  used_chip  used_pin_number  online_order  fraud\n",
      "3             0.775095                       -0.010151                        0.897337         0.395552   1.369913        -0.295801      0.638677    1.0\n",
      "4            -0.249645                       -0.002908                        1.014390         0.395552  -0.729969        -0.295801      0.638677    1.0\n",
      "5            -0.769093                        1.115000                        2.425578         0.395552  -0.729969        -0.295801      0.638677    1.0\n",
      "6             0.418422                       -0.683851                        1.508901         0.395552  -0.729969        -0.295801      0.638677    1.0\n",
      "8            -0.317723                       -0.587761                        1.510166         0.395552  -0.729969        -0.295801      0.638677    1.0\n",
      "9             0.509067                       -0.640718                        0.687096         0.395552  -0.729969        -0.295801      0.638677    1.0\n",
      "11            1.836106                       -0.718973                        0.751304         0.395552  -0.729969        -0.295801      0.638677    1.0\n",
      "13           -0.560674                        0.624854                        1.096790         0.395552  -0.729969        -0.295801      0.638677    1.0\n",
      "14            0.515222                       -0.818779                        0.780916         0.395552  -0.729969        -0.295801      0.638677    1.0\n",
      "16           -0.842568                       -0.797273                        1.008358        -2.528100  -0.729969        -0.295801     -1.565729    1.0\n",
      "23           -0.426926                       -0.556975                        1.201026         0.395552  -0.729969        -0.295801      0.638677    1.0\n",
      "26           -0.562557                       -0.498294                        2.536676         0.395552   1.369913        -0.295801      0.638677    1.0\n",
      "27           -0.468962                        1.293700                        1.370029         0.395552   1.369913        -0.295801      0.638677    1.0\n",
      "30            0.623496                       -0.090883                        1.570556         0.395552   1.369913        -0.295801      0.638677    1.0\n",
      "32           -0.093247                       -0.622312                        0.816891         0.395552  -0.729969        -0.295801      0.638677    1.0\n",
      "\n",
      "NaNs por columna\n",
      "\n",
      "Series([], dtype: float64)\n",
      "Index([     3,      4,      5,      6,      8,      9,     11,     13,     14,     16,\n",
      "       ...\n",
      "       251637, 251639, 251640, 251641, 251642, 251643, 251644, 251645, 251646, 251647], dtype='int64', length=180304)\n"
     ]
    }
   ],
   "source": [
    "print('\\n','Drescripcion del DF post procesamiento', '\\n\\n', df.describe(), sep='')\n",
    "print('\\n','15 Primeras filas', '\\n\\n',df.head(15), sep='')\n",
    "nans = df[df.columns[df.isnull().any()]]\n",
    "print('\\n','NaNs por columna', '\\n\\n',(nans.isnull().sum()), sep='')\n",
    "print(df.index)"
   ]
  },
  {
   "cell_type": "markdown",
   "metadata": {},
   "source": [
    "# RED NEURONAL"
   ]
  },
  {
   "cell_type": "markdown",
   "metadata": {},
   "source": [
    "Ahora si, la _**Red Neuronal**_. Primero vamos a separar los datos en entrenamiento y testeo, para despues definiar la funcion para entrenar la red.\n",
    "Se van a definir valores random para la capa oculta y los sesgos. Estos valores se multiplican por 2 y se les resta uno, para obtener asi tambien valores negativos. Una vez definidas las funciones ReLu y Sigmoide, armamos la funcion del _**Forward Propagation**_, la cual aplica las multiplicaciones matriciales correspondientes hasta llegar a la salida, y _**Backward Propagation**_, que se encarga de redistribuir el error entre las capas utilizando las derivadas, actualizando los pesos y sesgos para un error menor la proxima iteracion. <-"
   ]
  },
  {
   "cell_type": "markdown",
   "metadata": {},
   "source": [
    "#### Arquitectura de la red\n",
    "aca hay que poner el dibujo de la red y las matrices"
   ]
  },
  {
   "cell_type": "markdown",
   "metadata": {},
   "source": [
    "- Capas\n",
    "    - La red dispondria de 3 capas: 1 de entrada, 1 capa oculta y 1 de salida.\n",
    "\n",
    "- Neuronas\n",
    "    - En la capa de entrada habra 7 neuronas (datos de entrada), en la capa oculta, habra 4 neuronas, y en la ultima 1 sola, ya que es 1 si es fraude o 0 si no lo es.\n",
    "\n",
    "- Funciones de Activacion\n",
    "    - ReLu en las ocultas, Sigmoide en la de salida"
   ]
  },
  {
   "cell_type": "markdown",
   "metadata": {},
   "source": [
    "Comenzamos con la red.\n",
    "Primero, separamos los datos en entrenamiento y testeo."
   ]
  },
  {
   "cell_type": "code",
   "execution_count": 65,
   "metadata": {},
   "outputs": [],
   "source": [
    "# Extraigo las columnas de entrada\n",
    "inputs = df.iloc[:, 0:7].values\n",
    "outputs = df.iloc[:, -1].values\n",
    "\n",
    "# Conjuntos de entrenamiento y prueba\n",
    "x_train, x_test, y_train, y_test = train_test_split(inputs, outputs, test_size=1/3)\n",
    "\n",
    "#shape retorna una tupla con las dimensiones de la matriz = (filas, columnas).\n",
    "# por lo que shape[0], nos retorna las filas de la matriz.\n",
    "n_train = x_train.shape[0] # numero de registros de entrenamiento"
   ]
  },
  {
   "cell_type": "markdown",
   "metadata": {},
   "source": [
    "Y ahora si, construimos la Red Neuronal."
   ]
  },
  {
   "cell_type": "code",
   "execution_count": 66,
   "metadata": {},
   "outputs": [],
   "source": [
    "def red_neuronal(L, epochs):\n",
    "    np.random.seed(0)\n",
    "    # pesos\n",
    "    w_hidden_1 = np.random.rand(4,7) * 2 - 1\n",
    "    w_output_1 = np.random.rand(1,4) * 2 - 1\n",
    "\n",
    "    # sesgos\n",
    "    b_hidden = np.random.rand(4,1) * 2 - 1\n",
    "    b_output = np.random.rand(1,1) * 2 - 1\n",
    "\n",
    "    # Funciones de Activacion\n",
    "    relu = lambda x: np.maximum(x, 0)\n",
    "    sigmoide = lambda x: 1 / (1 + np.exp(-x))\n",
    "\n",
    "    def f_prop(X):\n",
    "        z1 = w_hidden_1 @ X + b_hidden\n",
    "        a1 = relu(z1)\n",
    "        z2 = w_output_1 @ a1 + b_output\n",
    "        a2 = sigmoide(z2)\n",
    "        return z1, a1, z2, a2\n",
    "\n",
    "    # Derivadas de las funciones de activación\n",
    "    d_relu = lambda x: x > 0\n",
    "    d_sigmoide = lambda x: np.exp(-x) / (1 + np.exp(-x)) ** 2\n",
    "\n",
    "    # Devuelve pendientes para pesos y sesgos\n",
    "    # usando la regla de la cadena\n",
    "    def b_prop(z1, a1, z2, a2, X, Y):\n",
    "        dC_dA2 = 2 * a2 - 2 * Y\n",
    "        dA2_dZ2 = d_sigmoide(z2)\n",
    "        dZ2_dA1 = w_output_1\n",
    "        dZ2_dW2 = a1\n",
    "        dZ2_dB2 = 1\n",
    "        dA1_dZ1 = d_relu(z1)\n",
    "        dZ1_dW1 = X\n",
    "        dZ1_dB1 = 1\n",
    "\n",
    "        dC_dW2 = dC_dA2 @ dA2_dZ2 @ dZ2_dW2.T\n",
    "        dC_dB2 = dC_dA2 @ dA2_dZ2 * dZ2_dB2\n",
    "        dC_dA1 = dC_dA2 @ dA2_dZ2 @ dZ2_dA1\n",
    "        dC_dW1 = dC_dA1 @ dA1_dZ1 @ dZ1_dW1.T\n",
    "        dC_dB1 = dC_dA1 @ dA1_dZ1 * dZ1_dB1\n",
    "\n",
    "        return dC_dW1, dC_dB1, dC_dW2, dC_dB2\n",
    "\n",
    "    # Para el grafico de las funciones\n",
    "    accuracy_train_l = []\n",
    "    accuracy_test_l = []\n",
    "\n",
    "    # Ejecutar descenso de gradiente\n",
    "    for i in range(epochs):\n",
    "        # seleccionar aleatoriamente uno de los datos de entrenamiento\n",
    "        idx = np.random.choice(n_train, 1, replace=False)\n",
    "        X_sample = x_train[idx].transpose()\n",
    "        Y_sample = y_train[idx]\n",
    "        \n",
    "        # pasar datos seleccionados aleatoriamente a través de la red neuronal\n",
    "        Z1, A1, Z2, A2 = f_prop(X_sample)\n",
    "\n",
    "        # distribuir error a través de la retropropagación\n",
    "        # y devolver pendientes para pesos y sesgos\n",
    "        dW1, dB1, dW2, dB2 = b_prop(Z1, A1, Z2, A2, X_sample, Y_sample)\n",
    "\n",
    "        # actualizar pesos y sesgos\n",
    "        w_hidden_1 -= L * dW1\n",
    "        b_hidden -= L * dB1\n",
    "        w_output_1 -= L * dW2\n",
    "        b_output -= L * dB2\n",
    "\n",
    "        # Accuracy\n",
    "        # Test\n",
    "        test_predictions = f_prop(x_test.transpose())[3]\n",
    "        test_comparisons = np.equal((test_predictions >= .5).flatten().astype(int), y_test)\n",
    "        accuracy_test = sum(test_comparisons.astype(int) / x_test.shape[0])\n",
    "        accuracy_test_l.append(accuracy_test)\n",
    "        \n",
    "        # Train\n",
    "        train_predictions = f_prop(x_train.transpose())[3]\n",
    "        train_comparisons = np.equal((train_predictions >= .5).flatten().astype(int), y_train)\n",
    "        \n",
    "        accuracy_train = sum(train_comparisons.astype(int) / x_train.shape[0])\n",
    "        accuracy_train_l.append(accuracy_train)\n",
    "\n",
    "    print(\"TRAIN ACCURACY: \", accuracy_train)\n",
    "    print(\"TEST ACCURACY: \", accuracy_test)\n",
    "    print(f'Epochs: {epochs}')\n",
    "    print(f'Paso: {L}')\n",
    "    grafico_acc(L=L, train_l=accuracy_train_l, test_l=accuracy_test_l)\n"
   ]
  },
  {
   "cell_type": "markdown",
   "metadata": {},
   "source": [
    "Y ahora si, procedemos a entrenar la red"
   ]
  },
  {
   "cell_type": "code",
   "execution_count": 68,
   "metadata": {},
   "outputs": [
    {
     "name": "stdout",
     "output_type": "stream",
     "text": [
      "TRAIN ACCURACY:  0.9761068867385796\n",
      "TEST ACCURACY:  0.9754084722647974\n",
      "Epochs: 20000\n",
      "Paso: 0.01\n"
     ]
    },
    {
     "data": {
      "image/png": "[encoded data removed]",
      "text/plain": [
       "<Figure size 1000x800 with 1 Axes>"
      ]
     },
     "metadata": {},
     "output_type": "display_data"
    },
    {
     "name": "stdout",
     "output_type": "stream",
     "text": [
      "TRAIN ACCURACY:  0.9808489043422568\n",
      "TEST ACCURACY:  0.9796512595264637\n",
      "Epochs: 20000\n",
      "Paso: 0.03\n"
     ]
    },
    {
     "data": {
      "image/png": "[encoded data removed]",
      "text/plain": [
       "<Figure size 1000x800 with 1 Axes>"
      ]
     },
     "metadata": {},
     "output_type": "display_data"
    }
   ],
   "source": [
    "epochs = [20_000]\n",
    "eles = [.01, .03]\n",
    "\n",
    "for rep in epochs:\n",
    "    for ele in eles:\n",
    "        red_neuronal(L=ele, epochs=rep)"
   ]
  },
  {
   "cell_type": "markdown",
   "metadata": {},
   "source": [
    "Por aca podriamos armar algo para pasarle a la red, y que intente pegarle. Pasa que ni nosotros sabemos cuando es y no fraude o potable jsjaja"
   ]
  }
 ],
 "metadata": {
  "kernelspec": {
   "display_name": "Python 3",
   "language": "python",
   "name": "python3"
  },
  "language_info": {
   "codemirror_mode": {
    "name": "ipython",
    "version": 3
   },
   "file_extension": ".py",
   "mimetype": "text/x-python",
   "name": "python",
   "nbconvert_exporter": "python",
   "pygments_lexer": "ipython3",
   "version": "3.12.3"
  }
 },
 "nbformat": 4,
 "nbformat_minor": 2
}
