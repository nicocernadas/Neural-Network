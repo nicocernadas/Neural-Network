{
 "cells": [
  {
   "cell_type": "markdown",
   "metadata": {},
   "source": [
    "### Cosas por hacer\n",
    "- [ x ] Crear repositorio en github\n",
    "    - https://github.com/nicocernadas/Proyecto-Cernadas-Correa.git\n",
    "\n",
    "### DataFrame\n",
    "- [ x ] Elegir el DataFrame\n",
    "    - [ x ] Analizar columnas\n",
    "    - [  ] Correlaciones entre columnas\n",
    "    - [  ] Factibilidad\n",
    "        - _Es adecuada para una red neuronal de clasificacion?_\n",
    "        - _Explicar el proposito de la red_\n",
    "    - [ x ] Datos atípicos y limpieza\n",
    "    - [  ] Transformaciones preliminares\n",
    "        - _Normalizacion, conversion de valores numericos..._\n",
    "\n",
    "### Red Neuronal\n",
    "- [  ] Dibujar arquitectura\n",
    "    - _Capas, neuronas por capa, funciones de activacion..._\n",
    "- [  ] Implementacion en Numpy\n",
    "    - _Inicializacion de pesos, calculo de activaciones, funcion costo, algoritmo de backpropagation y ajuste de los pesos mediante descenso de gradiente estocástico_\n",
    "- [  ] Entrenamiento y Evaluacion\n",
    "    - [  ] Entrenar la base seleccionada\n",
    "    - [  ] Trazar las curvas de precision y la funcion perdida\n",
    "- [  ] Analisis de Overfitting\n",
    "    - _Analizar posible overfitting_\n",
    "\n",
    "### Scikit-Learn\n",
    "- [ ] Implementacion de una red neuronal mediante el uso de la libreria scikit-learn.\n",
    "- [ ] Comparar rendimientos\n",
    "    - _En que aspectos son similares? En cuales diferentes?_\n",
    "\n",
    "### Conclusion final\n",
    "- [ ] Reporte de reflexiones"
   ]
  },
  {
   "cell_type": "markdown",
   "metadata": {},
   "source": [
    "### ANALISIS DE LA BASE DE DATOS"
   ]
  },
  {
   "cell_type": "markdown",
   "metadata": {},
   "source": [
    "#### 1) Descripcion de columnas"
   ]
  },
  {
   "cell_type": "markdown",
   "metadata": {},
   "source": [
    "**Variables categóricas**\n",
    "- **Potability**: Potabilidad del agua.\n",
    "    - **Descripción**: Indica si el agua es potable con valores 1 (potable) y 0 (no potable).\n",
    "\n",
    "**Variables continuas**\n",
    "- **pH**: Mide el nivel de acidez o alcalinidad del agua.\n",
    "    - **Descripción**: Se define como la concentración de iones de hidrógeno en el agua. La escala del pH es logarítmica con valores de 0 a 14.\n",
    "- **Hardness**: Mide la dureza del agua.\n",
    "    - **Descripción**: En química, el agua calcárea o agua dura —por contraposición al agua blanda— es aquella que contiene un alto nivel de minerales, en particular sales de magnesio y calcio.​ A veces se da como límite para denominar a un agua como dura una dureza superior a 120 mg/L.\n",
    "- **Solids**: Representa los sólidos en el agua.\n",
    "    - **Descripción**: Sólidos totales disueltos y no disueltos.\n",
    "- **Chloramines**: Indica la concentración de cloraminas en el agua.\n",
    "    - **Descripción**: La cloración tiene como objetivo principal eliminar o inactivar microorganismos patógenos, como bacterias, virus y parásitos, que podrían estar presentes en el agua y que podrían causar enfermedades si son ingeridos.\n",
    "- **Sulfate**: Mide la concentración de sulfato en el agua.\n",
    "    - **Descripción**: Los sulfatos son una mezcla de oxígeno y azufre y son partes de las sustancias existentes en algunas formaciones de rocas y suelos que incorporan agua subterránea. El mineral se convierte gradualmente en una solución y se libera al agua subterránea.\n",
    "- **Conductivity**: Mide la capacidad del agua para conducir electricidad.\n",
    "    - **Descripción**: Las sales disueltas en agua se descomponen en iones cargados positivamente y negativamente. La conductividad se define como la capacidad del agua para conducir una corriente eléctrica a travéde los iones disueltos. Los iones más positivos son sodio (Na+), calcio (Ca+2), potasio (K+) y magnesio (Mg+2).\n",
    "- **Organic_carbon**: Representa el contenido de carbono orgánico en el agua.\n",
    "    - **Descripción**: El carbono orgánico total es la medida de todo el carbono que contiene la materia orgánica disuelta o particulada presente en la muestra de agua. El origen de esta materia orgánica presente en el agua son, principalmente, sustancias vegetales o animales del acuífero utilizado para captar el agua o contaminaciones que se producen en el sistema de distribución. Su presencia por encima de los valores establecidos es un indicio de un exceso de materia orgánica en el agua, que al reaccionar con los agentes desinfectantes utilizados en la potabilización, como el cloro, pueden dar lugar a subproductos de la desinfección nocivos para la salud.\n",
    "- **Trihalomethanes**: Mide la concentración de trihalometanos en el agua.\n",
    "    - **Descripción**: Los trihalometanos son unos subproductos de la desinfección que se forman cuando se emplea el cloro como desinfectante. Los trihalometanos que se encuentran en el agua de consumo humano son el cloroformo, el bromodiclorometano, el dibromoclorometano y el bromoformo.\n",
    "- **Turbidity**: Mide el nivel de turbidez del agua.\n",
    "    - **Descripción**: La turbidez es una medida de la cantidad de partículas en suspensión en el agua. Las algas, los sedimentos en suspensión, la materia orgánica y los contaminantes pueden enturbiar el agua."
   ]
  },
  {
   "cell_type": "markdown",
   "metadata": {},
   "source": [
    "*EJEMPLO DE MUESTRAS DE AGUA:*\n",
    "\n",
    "**AGUA POTABLE**\n",
    "\n",
    "_pH: 9.45 (bastante alcalino)._\n",
    "\n",
    "_Hardness: 145.80 (baja dureza)._\n",
    "\n",
    "_Solids: 13,168 mg/L (niveles bajos de sólidos disueltos)._\n",
    "\n",
    "_Chloramines: 9.44 mg/L (nivel alto)._\n",
    "\n",
    "_Sulfate: 310.58 mg/L (nivel moderado)._\n",
    "\n",
    "_Conductivity: 592.66 µS/cm (nivel alto)._\n",
    "\n",
    "_Organic_carbon: 8.61 mg/L (nivel moderado de carbono orgánico)._\n",
    "\n",
    "_Trihalomethanes: 77.58 µg/L (dentro del rango aceptable)._\n",
    "\n",
    "_Turbidity: 3.87 NTU (dentro de los límites aceptables)._\n",
    "\n",
    "**AGUA NO POTABLE**:\n",
    "\n",
    "_pH: No disponible (dato faltante)._\n",
    "\n",
    "_Hardness: 204.89 (dureza media)._\n",
    "\n",
    "_Solids: 20,791 mg/L (nivel bastante alto de sólidos disueltos)._\n",
    "\n",
    "_Chloramines: 7.30 mg/L (nivel relativamente alto)._\n",
    "\n",
    "_Sulfate: 368.52 mg/L (nivel alto)._\n",
    "\n",
    "_Conductivity: 564.31 µS/cm (nivel alto)._\n",
    "\n",
    "_Organic_carbon: 10.38 mg/L (nivel elevado de carbono orgánico)._\n",
    "\n",
    "_Trihalomethanes: 86.99 µg/L (cerca del límite superior)._\n",
    "\n",
    "_Turbidity: 2.96 NTU (dentro de los límites aceptables)._\n",
    "\n",
    "**Determinación de valores clave.**\n",
    "En base en las características de las muestras, ciertos valores parecen ser determinantes:\n",
    "\n",
    "pH: Aunque en este caso el agua potable tiene un pH elevado (9.45), en general un pH fuera del rango neutro (6.5-8.5) podría indicar no potabilidad.\n",
    "\n",
    "Solids: Niveles muy altos de sólidos disueltos (>20,000 mg/L) parecen estar asociados con agua no potable, ya que superan ampliamente el promedio de 22,014 mg/L.\n",
    "\n",
    "Sulfate: El agua no potable tiene niveles más altos de sulfato (>360 mg/L), mientras que el agua potable está en un rango más moderado (300-350 mg/L).\n",
    "\n",
    "Organic_carbon: El agua no potable tiende a tener niveles elevados de carbono orgánico (>10 mg/L), lo que puede indicar contaminación orgánica.\n",
    "\n",
    "Trihalomethanes: Niveles superiores a 80 µg/L pueden ser un indicador de no potabilidad.\n",
    "\n",
    "**Reglas aproximadas basadas en los datos:**\n",
    "\n",
    "Si pH < 6.5 o pH > 8.5, el agua tiende a ser menos potable.\n",
    "\n",
    "Si Solids > 20,000 mg/L, el agua tiende a ser menos potable.\n",
    "\n",
    "Si Sulfate > 360 mg/L, el agua tiende a ser menos potable.\n",
    "\n",
    "Si Organic_carbon > 10 mg/L, el agua tiende a ser menos potable."
   ]
  },
  {
   "cell_type": "markdown",
   "metadata": {},
   "source": [
    "#### Primero importamos las librerias, y cargamos el DataFrame."
   ]
  },
  {
   "cell_type": "code",
   "execution_count": 1,
   "metadata": {},
   "outputs": [],
   "source": [
    "import numpy as np\n",
    "import pandas as pd\n",
    "import matplotlib.pyplot as plt\n",
    "from sklearn.linear_model import LinearRegression\n",
    "\n",
    "df = pd.read_csv('water_potability.csv', sep=',')\n",
    "df.fillna(df.median(), inplace=True)"
   ]
  },
  {
   "cell_type": "markdown",
   "metadata": {},
   "source": [
    "Las celdas en las cuales hubiese 'NaN', ahora estan cargadas con la mediana de cada fila."
   ]
  },
  {
   "cell_type": "markdown",
   "metadata": {},
   "source": [
    "#### 2) Analisis de Correlaciones"
   ]
  },
  {
   "cell_type": "markdown",
   "metadata": {},
   "source": [
    "Aca me mato"
   ]
  },
  {
   "cell_type": "markdown",
   "metadata": {},
   "source": [
    "#### 3) Factibilidad del Data Set"
   ]
  },
  {
   "cell_type": "markdown",
   "metadata": {},
   "source": [
    "a)\n",
    "\n",
    "b) La red dirá, en base a los datos suministrados, si un agua es potable o no. Al pasarle a la red el pH, solidos en el agua, minerales... será capaz de determinar si un agua es o no dañina para el cuerpo humano.\n"
   ]
  },
  {
   "cell_type": "markdown",
   "metadata": {},
   "source": [
    "#### 4) Datos Atipicos y Limpieza de Datos"
   ]
  },
  {
   "cell_type": "markdown",
   "metadata": {},
   "source": [
    "- Identificacion de Datos Atipicos\n",
    "\n",
    "    El siguiente codigo define una funcion que recibe como parametro una determinada columna de un Data Frame, obtiene los cuartiles y arma una lista con los valores atipicos, la cual retorna para el siguiente paso. \n",
    "    \n",
    "    En nuestro caso, la funcion fue armada con fines de '_testing_', ya que sacar los datos atipicos del DataFrame, en nuestro caso, empeora el desempeño y rendimiento de la Red."
   ]
  },
  {
   "cell_type": "code",
   "execution_count": null,
   "metadata": {},
   "outputs": [],
   "source": [
    "def atipicos_col(col_name):\n",
    "    sample_ordenado = sorted(col_name)\n",
    "    n = len(sample_ordenado)\n",
    "\n",
    "    # Cuartiles\n",
    "    Q1 = sample_ordenado[n // 4]\n",
    "    Q2 = (sample_ordenado[n // 2 - 1] + sample_ordenado[n // 2]) / 2\n",
    "    Q3 = sample_ordenado[3 * n // 4]\n",
    "    iqr = Q3 - Q1\n",
    "\n",
    "    print('Cuantiles', )\n",
    "    print('Valores mayores a: ', Q3 + (1.5 * iqr), ' => Son atipicos')\n",
    "    print('Valores menores a: ',Q1 - (1.5 * iqr), ' => Son atipicos')\n",
    "    print('\\n')\n",
    "\n",
    "    atipicos = []\n",
    "\n",
    "    # Calcula los valores atipicos\n",
    "    for x in sample_ordenado:\n",
    "        if (x > Q3 + (1.5 * iqr) or (x < Q1 - (1.5 * iqr))):\n",
    "            atipicos.append(x)\n",
    "        else:\n",
    "            pass\n",
    "    \n",
    "    # Retorna la lista ordenada para despues armar el nuevo dataframe.\n",
    "    return atipicos"
   ]
  },
  {
   "cell_type": "markdown",
   "metadata": {},
   "source": [
    "- Limpieza de los datos\n",
    "\n",
    "    Esta funcion recibe el dataframe y arma una lista con sus columnas.\n",
    "    \n",
    "    En un bucle, llama a la funcion definida anteriormente, y le pasa como parametro el la primer columna de la lista de columnas del dataframe que recibió como parametro.\n",
    "\n",
    "    Una vez que finaliza la funcion y ya tenemos la lista de datos atipicos, genera otro bucle, y emplea la funcion .loc[] de Pandas, para intercambiar los items de la lista de 'atipicos' por 'nan' en la misma columna.\n",
    "\n",
    "    Esto se repetira para todas las columnas del DataFrame "
   ]
  },
  {
   "cell_type": "code",
   "execution_count": null,
   "metadata": {},
   "outputs": [],
   "source": [
    "def limpieza_col(data_frame):\n",
    "    columnas = data_frame.columns\n",
    "    atipicos = 0\n",
    "\n",
    "    for item in columnas:\n",
    "        atipicos = atipicos_col(data_frame[item])\n",
    "        for x in atipicos:\n",
    "            data_frame.loc[data_frame[item] == x, item] = np.nan\n",
    "\n",
    "    return data_frame"
   ]
  },
  {
   "cell_type": "markdown",
   "metadata": {},
   "source": [
    "Y se llama la funcion para realizar toda la limpieza"
   ]
  },
  {
   "cell_type": "code",
   "execution_count": null,
   "metadata": {},
   "outputs": [],
   "source": [
    "df = limpieza_col(df)"
   ]
  },
  {
   "cell_type": "markdown",
   "metadata": {},
   "source": [
    "- Estandarizacion de los datos\n",
    "\n",
    "    Como previamente se dijo, los \"_datos atipicos_\" no son excluidos en nuestra red, pero se normalizaron de la siguiente manera:"
   ]
  },
  {
   "cell_type": "code",
   "execution_count": null,
   "metadata": {},
   "outputs": [],
   "source": [
    "def estandarizacion(data_frame):\n",
    "    columnas = data_frame.columns.to_list()\n",
    "\n",
    "    for item in columnas[:-1]:\n",
    "        # media\n",
    "        media = data_frame[item].mean()\n",
    "        # desviacion estandar\n",
    "        desv_std = data_frame[item].std()\n",
    "        # lista para guardar los valores escalados\n",
    "        valores_esc = []\n",
    "        for value in data_frame[item]:\n",
    "            # estandariza\n",
    "            valor_esc = (value - media) / desv_std\n",
    "            # guarda\n",
    "            valores_esc.append(valor_esc)\n",
    "        # mete toda la lista en la columna\n",
    "        data_frame[item] = valores_esc\n",
    "    \n",
    "    return data_frame"
   ]
  },
  {
   "cell_type": "markdown",
   "metadata": {},
   "source": [
    "La funcion recibe el Data Frame entero como parametro, y pasa por cada fila de cada columna, realizando la siguiente expresion:\n",
    "(dato - media) / desv. estandar. Convirtiendo los datos a una escala comun."
   ]
  },
  {
   "cell_type": "markdown",
   "metadata": {},
   "source": [
    "### RED NEURONAL"
   ]
  },
  {
   "cell_type": "markdown",
   "metadata": {},
   "source": [
    "#### Arquitectura de la red"
   ]
  },
  {
   "cell_type": "markdown",
   "metadata": {},
   "source": [
    "- Vistazo de lo que se me ocurrio para hacer\n",
    "\n",
    "![Aca iria una foto de la red]()"
   ]
  },
  {
   "cell_type": "markdown",
   "metadata": {},
   "source": [
    "- Capas\n",
    "    - La red dispondria de 3 capas: 1 de entrada, 2 ocultas y 1 de salida.\n",
    "\n",
    "- Neuronas\n",
    "    - En la capa de entrada habra tantas neuronas como columnas (datos de entrada), en las 2 del medio 3 neuronas en cada una (ni idea, preguntar) y en la ultima 1 sola, ya que es 1 si es potable, y 0 si no lo es\n",
    "\n",
    "- Funciones de Activacion\n",
    "    - ReLu en las ocultas, Sigmoide en la de salida"
   ]
  }
 ],
 "metadata": {
  "kernelspec": {
   "display_name": "Python 3",
   "language": "python",
   "name": "python3"
  },
  "language_info": {
   "codemirror_mode": {
    "name": "ipython",
    "version": 3
   },
   "file_extension": ".py",
   "mimetype": "text/x-python",
   "name": "python",
   "nbconvert_exporter": "python",
   "pygments_lexer": "ipython3",
   "version": "3.12.3"
  }
 },
 "nbformat": 4,
 "nbformat_minor": 2
}
