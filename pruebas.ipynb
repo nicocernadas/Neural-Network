{
 "cells": [
  {
   "cell_type": "markdown",
   "metadata": {},
   "source": [
    "### Cosas por hacer\n",
    "- [x] Crear repositorio en github\n",
    "    - https://github.com/nicocernadas/Proyecto-Cernadas-Correa.git\n",
    "\n",
    "### DataFrame\n",
    "- [ ] Elegir el DataFrame\n",
    "    - [ ] Analizar columnas\n",
    "    - [ ] Correlaciones entre columnas\n",
    "    - [ ] Factibilidad\n",
    "        - _Es adecuada para una red neuronal de clasificacion?_\n",
    "        - _Explicar el proposito de la red_\n",
    "    - [ ] Datos atípicos y limpieza\n",
    "    - [ ] Transformaciones preliminares\n",
    "        - _Normalizacion, conversion de valores numericos..._\n",
    "\n",
    "### Red Neuronal\n",
    "- [ ] Dibujar arquitectura\n",
    "    - _Capas, neuronas por capa, funciones de activacion..._\n",
    "- [ ] Implementacion en Numpy\n",
    "    - _Inicializacion de pesos, calculo de activaciones, funcion costo, algoritmo de backpropagation y ajuste de los pesos mediante descenso de gradiente estocástico_\n",
    "- [ ] Entrenamiento y Evaluacion\n",
    "    - [ ] Entrenar la base seleccionada\n",
    "    - [ ] Trazar las curvas de precision y la funcion perdida\n",
    "- [ ] Analisis de Overfitting\n",
    "    - _Analizar posible overfitting_\n",
    "\n",
    "### Scikit-Learn\n",
    "- [ ] Implementacion de una red neuronal mediante el uso de la libreria scikit-learn.\n",
    "- [ ] Comparar rendimientos\n",
    "    - _En que aspectos son similares? En cuales diferentes?_\n",
    "\n",
    "### Conclusion final\n",
    "- [ ] Reporte de reflexiones"
   ]
  },
  {
   "cell_type": "markdown",
   "metadata": {},
   "source": [
    "## Pruebas 4/10\n",
    "-\n",
    "-\n",
    "-"
   ]
  }
 ],
 "metadata": {
  "language_info": {
   "name": "python"
  }
 },
 "nbformat": 4,
 "nbformat_minor": 2
}
